{
 "cells": [
  {
   "cell_type": "markdown",
   "id": "8453e636",
   "metadata": {},
   "source": [
    "# Object Oriented Programming"
   ]
  },
  {
   "cell_type": "code",
   "execution_count": 18,
   "id": "524161dc",
   "metadata": {},
   "outputs": [
    {
     "name": "stdout",
     "output_type": "stream",
     "text": [
      "Brand: Sedan\n",
      "Warna: Biru\n",
      "Kecepatan: 15\n",
      "4\n"
     ]
    }
   ],
   "source": [
    "class Mobil:\n",
    "    \n",
    "    # Constractor / fungsi yang otomatis dijalankan saat instansiasi class \n",
    "    def __init__(self, w, brand, kecepatan):\n",
    "        self.warna = w\n",
    "        self.brand = brand\n",
    "        self.kecepatan = kecepatan\n",
    "    \n",
    "    # Atribute\n",
    "    jumlah_roda = 4\n",
    "    \n",
    "    # Method\n",
    "    def print_info(self):\n",
    "        print(\"Brand:\", self.brand)\n",
    "        print(\"Warna:\", self.warna)\n",
    "        print(\"Kecepatan:\", self.kecepatan)\n",
    "        \n",
    "    \n",
    "    def tambah_kecepatan(self, v):\n",
    "        self.kecepatan += v\n",
    "        \n",
    "mobil_saya = Mobil(\"Biru\", \"Sedan\", 15)\n",
    "mobil_saya.print_info()\n",
    "print(mobil_saya.jumlah_roda)\n",
    "# Jika panggil atribut harus pake print"
   ]
  },
  {
   "cell_type": "code",
   "execution_count": 8,
   "id": "338e41e6",
   "metadata": {},
   "outputs": [
    {
     "name": "stdout",
     "output_type": "stream",
     "text": [
      "Haloo, namaku Sweety jenis kucing Persia warna buluku Oren\n"
     ]
    }
   ],
   "source": [
    "class Kucing:\n",
    "    # Constructor nama fungsi harus __init__\n",
    "    def __init__(self, ):\n",
    "        self.nama = \"Sweety\"\n",
    "        self.jumlah_kaki = 4\n",
    "        self.warna_bulu = \"Oren\"\n",
    "        self.ras = \"Persia\"\n",
    "        self.panjang_ekor = 30\n",
    "        self.warna_mata = \"Coklat\"\n",
    "        \n",
    "    # Method\n",
    "    def kenalin_diri(self):\n",
    "        print(f'Haloo, namaku {self.nama} jenis kucing {self.ras} warna buluku {self.warna_bulu}')\n",
    "        \n",
    "    def makan(self):\n",
    "        print('Nyam Nyammmm')\n",
    "        \n",
    "    def tidur(self):\n",
    "        print('ZzZZzZZzzzz ZZzzz ZZZz')\n",
    "    \n",
    "    def jalan_pake_2_kaki(self):\n",
    "        print('Hap Hap')\n",
    "        \n",
    "    def garuk_garuk(self):\n",
    "        print('sksksks sksksks sksk')\n",
    "    \n",
    "    # Attribute\n",
    "    # - nama\n",
    "    # - jumlah_kaki\n",
    "    # - warna_bulu\n",
    "    # - ras\n",
    "    # - panjang_ekor\n",
    "    # - warna_mata\n",
    "    \n",
    "    # Method\n",
    "    # - kenalin_diri\n",
    "    # - suara\n",
    "    # - makan()\n",
    "    # - tidur()\n",
    "    # - jalan_pake_2_kaki\n",
    "    # - garuk_garuk()\n",
    "\n",
    "# Karena objek dimasukan dalam suatu variabel    \n",
    "oren_barbar_cat = Kucing()\n",
    "# a.nama atau print(a.nama)\n",
    "oren_barbar_cat.kenalin_diri()"
   ]
  },
  {
   "cell_type": "code",
   "execution_count": 16,
   "id": "0649a309",
   "metadata": {},
   "outputs": [
    {
     "name": "stdout",
     "output_type": "stream",
     "text": [
      "Haloo, namaku Blacky jenis kucing Persia warna buluku Oren\n",
      "Haloo, namaku Kitty jenis kucing Persia warna buluku Oren\n"
     ]
    }
   ],
   "source": [
    "class Kucing:\n",
    "    # Constructor nama fungsi harus __init__\n",
    "    def __init__(self, nama):\n",
    "        self.nama = nama\n",
    "        self.jumlah_kaki = 4\n",
    "        self.warna_bulu = \"Oren\"\n",
    "        self.ras = \"Persia\"\n",
    "        self.panjang_ekor = 30\n",
    "        self.warna_mata = \"Coklat\"\n",
    "        \n",
    "    # Method\n",
    "    def kenalin_diri(self):\n",
    "        print(f'Haloo, namaku {self.nama} jenis kucing {self.ras} warna buluku {self.warna_bulu}')\n",
    "        \n",
    "    def makan(self):\n",
    "        print('Nyam Nyammmm')\n",
    "        \n",
    "    def tidur(self):\n",
    "        print('ZzZZzZZzzzz ZZzzz ZZZz')\n",
    "    \n",
    "    def jalan_pake_2_kaki(self):\n",
    "        print('Hap Hap')\n",
    "        \n",
    "    def garuk_garuk(self):\n",
    "        print('sksksks sksksks sksk')\n",
    "    \n",
    "    # Attribute\n",
    "    # - nama\n",
    "    # - jumlah_kaki\n",
    "    # - warna_bulu\n",
    "    # - ras\n",
    "    # - panjang_ekor\n",
    "    # - warna_mata\n",
    "    \n",
    "    # Method\n",
    "    # - kenalin_diri\n",
    "    # - suara\n",
    "    # - makan()\n",
    "    # - tidur()\n",
    "    # - jalan_pake_2_kaki\n",
    "    # - garuk_garuk()\n",
    "\n",
    "# Karena objek dimasukan dalam suatu variabel    \n",
    "oren_barbar_cat = Kucing(\"Blacky\")\n",
    "oren_barbar_cat.kenalin_diri()\n",
    "\n",
    "oren_barbar_cat.nama = \"Kitty\"\n",
    "oren_barbar_cat.kenalin_diri()\n",
    "# a.nama atau print(a.nama)\n",
    "# Kucing(\"Blacky\")"
   ]
  },
  {
   "cell_type": "markdown",
   "id": "003d3d21",
   "metadata": {},
   "source": [
    "# Inheritance"
   ]
  },
  {
   "cell_type": "code",
   "execution_count": 47,
   "id": "eca88280",
   "metadata": {},
   "outputs": [
    {
     "name": "stdout",
     "output_type": "stream",
     "text": [
      "\n",
      "Ini adalah constructor class Smartphone\n",
      "Ini constructor class Gadget\n",
      "\n",
      "Nama    :  Iphone 13\n",
      "Harga   :  Snapdragon\n",
      "Chipset :  $500\n",
      "Tipe    :  Apple\n",
      "\n",
      "Ini adalah constructor class Smartwatch\n",
      "Ini constructor class Gadget\n",
      "\n",
      "Nama      :  Apple Watch\n",
      "Harga     :  $200\n",
      "Chipset   :  Android\n",
      "Tipe      :  Apple\n",
      "Diameter  :  10\n"
     ]
    }
   ],
   "source": [
    "# Gadget : Smartphone, Laptop\n",
    "\n",
    "class Gadget: # Abstrak parameter sedikit\n",
    "    def __init__(self, nama, harga, chipset):\n",
    "        print(\"Ini constructor class Gadget\")\n",
    "        self.nama = nama\n",
    "        self.harga = harga\n",
    "        self.chipset = chipset\n",
    "\n",
    "        \n",
    "class Smartphone(Gadget):\n",
    "    def __init__(self, nama, harga, chipset, tipe_smartphone):\n",
    "        print(\"\\nIni adalah constructor class Smartphone\")\n",
    "        super().__init__(nama, harga, chipset)\n",
    "        self.tipe = tipe_smartphone\n",
    "    \n",
    "    def tampilkan_info(self):\n",
    "        print('')\n",
    "        print(\"Nama    : \", self.nama)\n",
    "        print(\"Harga   : \", self.harga)\n",
    "        print(\"Chipset : \", self.chipset)\n",
    "        print(\"Tipe    : \", self.tipe)\n",
    "\n",
    "        \n",
    "class Smartwatch(Gadget):\n",
    "    def __init__(self, nama, harga, chipset, tipe_smartwatch, diameter_display):\n",
    "        print(\"\\nIni adalah constructor class Smartwatch\")\n",
    "        super().__init__(nama, harga, chipset)\n",
    "        self.tipe_smartwatch = tipe_smartwatch\n",
    "        self.diameter = diameter_display\n",
    "    \n",
    "    def tampilkan_info(self):\n",
    "        print('')\n",
    "        print(\"Nama      : \", self.nama)\n",
    "        print(\"Harga     : \", self.harga)\n",
    "        print(\"Chipset   : \", self.chipset)\n",
    "        print(\"Tipe      : \", self.tipe_smartwatch)\n",
    "        print(\"Diameter  : \", self.diameter)\n",
    "\n",
    "# Instansiasi Kelas Smartphone\n",
    "iphone13 = Smartphone(\"Iphone 13\", \"Snapdragon\", \"$500\", \"Apple\")\n",
    "iphone13.tampilkan_info()\n",
    "\n",
    "apple_watch = Smartwatch(\"Apple Watch\", \"$200\", \"Android\", \"Apple\", 10)\n",
    "apple_watch.tampilkan_info()"
   ]
  },
  {
   "cell_type": "code",
   "execution_count": null,
   "id": "7e2ecee6",
   "metadata": {},
   "outputs": [],
   "source": []
  }
 ],
 "metadata": {
  "kernelspec": {
   "display_name": "Python 3",
   "language": "python",
   "name": "python3"
  },
  "language_info": {
   "codemirror_mode": {
    "name": "ipython",
    "version": 3
   },
   "file_extension": ".py",
   "mimetype": "text/x-python",
   "name": "python",
   "nbconvert_exporter": "python",
   "pygments_lexer": "ipython3",
   "version": "3.8.8"
  }
 },
 "nbformat": 4,
 "nbformat_minor": 5
}
