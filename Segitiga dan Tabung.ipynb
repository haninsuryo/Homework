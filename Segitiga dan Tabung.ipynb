{
 "cells": [
  {
   "cell_type": "markdown",
   "id": "38258aa1",
   "metadata": {},
   "source": [
    "# Orbit Future Academy - Activity "
   ]
  },
  {
   "cell_type": "markdown",
   "id": "5839131b",
   "metadata": {},
   "source": [
    "Menggunakan fungsi untuk menghitung luas bangun datar dan volume bangun ruang"
   ]
  },
  {
   "cell_type": "code",
   "execution_count": 1,
   "id": "1a307c1f",
   "metadata": {},
   "outputs": [
    {
     "name": "stdout",
     "output_type": "stream",
     "text": [
      "\n",
      "Pilih menu program:\n",
      "1. Menghitung Luas Segitiga\n",
      "2. Menghitung Volume Tabung\n",
      "3. x untuk Keluar\n",
      "\n",
      "Silahkan pilih program:1\n",
      "\n",
      "=====Luas Segitiga=====\n",
      "\n",
      "Masukan alas segitiga dalam cm  : 12\n",
      "Masukan tinggi segitiga dalam cm: 2\n",
      "Luas Segitiga : 12.0 cm^2\n",
      "\n",
      "Silahkan pilih program:2\n",
      "\n",
      "=====Volume Tabung=====\n",
      "\n",
      "Masukan jari-jari tabung dalam cm: 7\n",
      "Masukan tinggi tabung dalam cm: 10\n",
      "Volume Tabung : 1538.6000000000001 cm^3\n",
      "\n",
      "Silahkan pilih program:x\n",
      "\n",
      "Terimakasih dan sampai jumpa\n"
     ]
    }
   ],
   "source": [
    "# Fungsi menghitung luas Segitiga\n",
    "def luas_segitiga(alas,tinggi):\n",
    "    luas = 1/2 * alas * tinggi\n",
    "    print(f'Luas Segitiga : {luas} cm^2')\n",
    "\n",
    "# Fungsi menghitung Volume Tabung\n",
    "def volume_tabung(jari_jari,tinggi):\n",
    "    volume = 3.14 * jari_jari**2 * tinggi\n",
    "    print(f'Volume Tabung : {volume} cm^3')\n",
    "    \n",
    "# Fungsi pilihan namun masih belum bisa digunakan\n",
    "'''def option(ans):\n",
    "        if ans == 'y':\n",
    "            pilihan = 0\n",
    "            print(\"\\n---------------------------------------------\")\n",
    "        else:\n",
    "            pilihan = None\n",
    "            break\n",
    "        else:\n",
    "            while ans != 'y' or ans != 'n':\n",
    "                print(\"\\nPilihan tidak tersedia\")\n",
    "                pilih = input(\"Coba lagi:\")'''        \n",
    "\n",
    "# Fungsi menu\n",
    "def menu():\n",
    "    print('\\nPilih menu program:\\n1. Menghitung Luas Segitiga\\n2. Menghitung Volume Tabung\\n3. x untuk Keluar')\n",
    "\n",
    "\n",
    "menu()\n",
    "pilihan = 0\n",
    "\n",
    "while pilihan != None:    \n",
    "    \n",
    "    pilihan = input(\"\\nSilahkan pilih program:\")\n",
    "    \n",
    "    if pilihan == \"1\":\n",
    "        print('\\n=====Luas Segitiga=====')\n",
    "        input_alas = float(input(\"\\nMasukan alas segitiga dalam cm  : \"))\n",
    "        input_tinggi = float(input(\"Masukan tinggi segitiga dalam cm: \"))\n",
    "        luas_segitiga(input_alas,input_tinggi)\n",
    "#         opsi = input(\"Ingin melakukan perhitungan lagi(y/n)? \")\n",
    "#         option(opsi)\n",
    "        \n",
    "    elif pilihan == \"2\":\n",
    "        print('\\n=====Volume Tabung=====')\n",
    "        input_jari_jari = float(input(\"\\nMasukan jari-jari tabung dalam cm: \"))\n",
    "        input_tinggi = float(input(\"Masukan tinggi tabung dalam cm: \"))\n",
    "        volume_tabung(input_jari_jari,input_tinggi)\n",
    "#         opsi = input(\"Ingin melakukan perhitungan lagi(y/n)? \")\n",
    "#         option(opsi)\n",
    "        \n",
    "    elif pilihan == \"x\":\n",
    "        print(\"\\nTerimakasih dan sampai jumpa\")\n",
    "        break\n",
    "        \n",
    "    else:\n",
    "        print(\"\\nMaaf program belum tersedia\")\n",
    "#         opsi = input(\"Ingin melakukan perhitungan lagi(y/n)? \")\n",
    "#         option(opsi)\n",
    "    "
   ]
  },
  {
   "cell_type": "code",
   "execution_count": null,
   "id": "95429eca",
   "metadata": {},
   "outputs": [],
   "source": []
  }
 ],
 "metadata": {
  "kernelspec": {
   "display_name": "Python 3",
   "language": "python",
   "name": "python3"
  },
  "language_info": {
   "codemirror_mode": {
    "name": "ipython",
    "version": 3
   },
   "file_extension": ".py",
   "mimetype": "text/x-python",
   "name": "python",
   "nbconvert_exporter": "python",
   "pygments_lexer": "ipython3",
   "version": "3.8.8"
  }
 },
 "nbformat": 4,
 "nbformat_minor": 5
}
