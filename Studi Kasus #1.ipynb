{
 "cells": [
  {
   "cell_type": "markdown",
   "id": "6dc0a89f",
   "metadata": {},
   "source": [
    "# Orbit Future Academy - Homework 1"
   ]
  },
  {
   "cell_type": "markdown",
   "id": "58f93aec",
   "metadata": {},
   "source": [
    "Koperasi Sukanabung ingin melakukan rekrutmen anggota baru. Berikut ini data calon anggota Koperasi Sukanabung : \n",
    "\n",
    "| No | Nama   | Jml Tabungan (perbulan) | usia |\n",
    "|----|--------|-------------------------|------|\n",
    "| 1  | Entong | 12000                   | 16   |\n",
    "| 2  | Eneng  | 10000                   | 17   |\n",
    "| 3  | Bobby  | 9000                    | 25   |\n",
    "| 4  | Amir   | 15000                   | 26   |\n",
    "| 5  | Rendi  | 9900                    | 23   |"
   ]
  },
  {
   "cell_type": "markdown",
   "id": "63620418",
   "metadata": {},
   "source": [
    "**TUGAS**\n",
    "\n",
    "1. Buat data tersebut dalam bentuk dictionary ?\n",
    "2. Buat program sederhana untuk menentukan apakah calon - calon tersebut sudah layak untuk menjadi anggota baru koperasi sukanabung.\n",
    "3. Apabila ada calon anggota koperasi sukanabung yang tidak lolos, sebutkan alasannya mengapa yang bersangkutan tidak lolos.\n",
    "4. Siapa saja kah yang lolos?"
   ]
  },
  {
   "cell_type": "markdown",
   "id": "579b67a4",
   "metadata": {},
   "source": [
    "**SOLUSI**"
   ]
  },
  {
   "cell_type": "markdown",
   "id": "676de913",
   "metadata": {},
   "source": [
    "1. Data calon anggota koperasi Sukanabung dalam bentuk dictionary"
   ]
  },
  {
   "cell_type": "code",
   "execution_count": 4,
   "id": "c90fd3ff",
   "metadata": {},
   "outputs": [],
   "source": [
    "# Format Data Dictionary terdiri dari 'key' dan 'value'\n",
    "Calon_anggota = {\n",
    "    'No' : [1, 2, 3, 4, 5],\n",
    "    'Nama' : [\"Entong\", \"Eneng\", \"Bobby\", \"Amir\", \"Rendi\"],\n",
    "    'Jml Tabungan (perbulan)': [12000, 10000, 9000, 15000, 9900],\n",
    "    'Usia' : [16, 17, 25, 26, 23]\n",
    "}"
   ]
  },
  {
   "cell_type": "markdown",
   "id": "dd1a6f93",
   "metadata": {},
   "source": [
    "2. Seleksi data calon yang layak menjadi anggota koperasi Sukanabung berdasarkan kriteria sebagai berikut:\n",
    "- Tabungan dalam satu bulan minimal 10.000 rupiah\n",
    "- Usia 17-25 tahun"
   ]
  },
  {
   "cell_type": "code",
   "execution_count": 7,
   "id": "6d3459cd",
   "metadata": {},
   "outputs": [
    {
     "name": "stdout",
     "output_type": "stream",
     "text": [
      "\n",
      "Mohon Maaf, Entong\n",
      "Silahkan mendaftar tahun depan!\n",
      "\n",
      "Selamat datang, Eneng\n",
      "Anggota baru koperasi Sukanabung.\n",
      "\n",
      "Mohon Maaf, Bobby\n",
      "Semangat untuk lebih rajin lagi menabung!\n",
      "\n",
      "Mohon Maaf, Amir\n",
      "Usia Anda sudah tidak memenuhi kriteria.\n",
      "\n",
      "Mohon Maaf, Rendi\n",
      "Semangat untuk lebih rajin lagi menabung!\n"
     ]
    }
   ],
   "source": [
    "# Inisialisasi variabel dictionary\n",
    "nama = Calon_anggota['Nama']\n",
    "tabungan = Calon_anggota['Jml Tabungan (perbulan)']\n",
    "usia = Calon_anggota['Usia']\n",
    "\n",
    "# Berdasarkan kriteria, calon anggota dapat diseleksi menggunakan while dan if...elif...else\n",
    "x = 0\n",
    "while x < 5:\n",
    "    \n",
    "    if tabungan[x] >= 10000:\n",
    "        if usia[x] > 25:\n",
    "            print(\"\\nMohon Maaf,\",nama[x])\n",
    "            print(\"Usia Anda sudah tidak memenuhi kriteria.\")\n",
    "        elif usia[x] >= 17 and usia[x] <= 25: \n",
    "            print(\"\\nSelamat datang,\",nama[x])\n",
    "            print(\"Anggota baru koperasi Sukanabung.\")\n",
    "        else:\n",
    "            print(\"\\nMohon Maaf,\",nama[x])\n",
    "            print(\"Silahkan mendaftar tahun depan!\")\n",
    "    else:\n",
    "        print(\"\\nMohon Maaf,\",nama[x])\n",
    "        print(\"Semangat untuk lebih rajin lagi menabung!\")\n",
    "     \n",
    "    x += 1    "
   ]
  },
  {
   "cell_type": "markdown",
   "id": "a4bbc5d3",
   "metadata": {},
   "source": [
    "3. Alasan beberapa calon anggota tidak lolos, antara lain:\n",
    "\n",
    "* Entong : usianya 16 tahun, masih dibawah kriteria min.17 tahun\n",
    "* Bobby : jumlah tabungannya 9.000 rupiah, belum mencapai kriteria min. 10.000 rupiah\n",
    "* Amir : usianya 26 tahun, sudah melebihi kriteria maks. 25 tahun\n",
    "* Bobby : jumlah tabungannya 9.900 rupiah, belum mencapai kriteria min. 10.000 rupiah"
   ]
  },
  {
   "cell_type": "markdown",
   "id": "d2ff6426",
   "metadata": {},
   "source": [
    "4. Calon anggota koperasi Sukanabung yang lolos seleksi adalah Eneng (Jumlah tabungan 10.000 rupiah dan usianya 17 tahun)"
   ]
  },
  {
   "cell_type": "code",
   "execution_count": null,
   "id": "d15aaa4b",
   "metadata": {},
   "outputs": [],
   "source": []
  }
 ],
 "metadata": {
  "kernelspec": {
   "display_name": "Python 3",
   "language": "python",
   "name": "python3"
  },
  "language_info": {
   "codemirror_mode": {
    "name": "ipython",
    "version": 3
   },
   "file_extension": ".py",
   "mimetype": "text/x-python",
   "name": "python",
   "nbconvert_exporter": "python",
   "pygments_lexer": "ipython3",
   "version": "3.8.8"
  }
 },
 "nbformat": 4,
 "nbformat_minor": 5
}
